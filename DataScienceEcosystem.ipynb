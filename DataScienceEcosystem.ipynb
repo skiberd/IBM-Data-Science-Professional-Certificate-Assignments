{
 "cells": [
  {
   "cell_type": "markdown",
   "id": "4ce341cc-4501-409c-9f78-072bbe30611a",
   "metadata": {},
   "source": [
    "## Author\n",
    "Steven "
   ]
  },
  {
   "cell_type": "markdown",
   "id": "78398896-04a4-497d-9a06-27b3d84c0b13",
   "metadata": {},
   "source": [
    "# Data Science Tools and Ecosystem"
   ]
  },
  {
   "cell_type": "markdown",
   "id": "84208ddd-f607-4287-aeb7-b99cdb79997f",
   "metadata": {},
   "source": [
    "In this notebook, Data Science Tools and Ecosystem are summarized."
   ]
  },
  {
   "cell_type": "markdown",
   "id": "e6ec9114-d39a-431b-adad-7b70538a1526",
   "metadata": {},
   "source": [
    "**Objectives**\n",
    "\n",
    "- Identify popular data science languages\n",
    "- Identify commonly used libraries for data science\n",
    "- Identify data science tools\n",
    "- Perform arithmetic expressions\n"
   ]
  },
  {
   "cell_type": "markdown",
   "id": "1f3c6cf7-5b27-4a37-b786-4f77c20ab66e",
   "metadata": {},
   "source": [
    "Some of the popular languages that Data Scientists use are:"
   ]
  },
  {
   "cell_type": "markdown",
   "id": "b2531380-9c04-4b9b-80a8-eabd3027f4c8",
   "metadata": {},
   "source": [
    "1. Python\n",
    "2. MATLAB\n",
    "3. Scala\n",
    "4. Ruby"
   ]
  },
  {
   "cell_type": "markdown",
   "id": "cab1a0b2-63c9-4531-8afe-00c0ab2897f4",
   "metadata": {},
   "source": [
    "Some of the commonly used libraries used by Data Scientists include:"
   ]
  },
  {
   "cell_type": "markdown",
   "id": "98e91811-538c-47a5-a464-16f4054a425e",
   "metadata": {},
   "source": [
    "1. Scientific computing libraries e.g., Pandas\n",
    "2. Visualisation libraries e.g., plotly\n",
    "3. High-level machine learning libraries e.g., Scikit-learn"
   ]
  },
  {
   "cell_type": "markdown",
   "id": "dd9ad3dd-9946-4c90-9a1a-09634a0038bc",
   "metadata": {},
   "source": [
    "|Data Science Tools|\n",
    "|----|\n",
    "|VisualStudio Code|\n",
    "|JupyerLab|\n",
    "|Anaconda|\n"
   ]
  },
  {
   "cell_type": "markdown",
   "id": "34a03599-3b2e-446c-8801-dcb2ef5039ac",
   "metadata": {},
   "source": [
    "### Below are a few examples of evaluating arithmetic expressions in Python"
   ]
  },
  {
   "cell_type": "markdown",
   "id": "5ca9ddcb-98bd-4761-89d4-3a63716c480d",
   "metadata": {},
   "source": [
    "*This a simple arithmetic expression to mutiply then add integers*"
   ]
  },
  {
   "cell_type": "code",
   "execution_count": 12,
   "id": "4b9fc73f-e3f3-4dbb-b330-f2190311b835",
   "metadata": {},
   "outputs": [
    {
     "data": {
      "text/plain": [
       "17"
      ]
     },
     "execution_count": 12,
     "metadata": {},
     "output_type": "execute_result"
    }
   ],
   "source": [
    "(3*4)+5"
   ]
  },
  {
   "cell_type": "markdown",
   "id": "e93e1499-0cc0-4b58-bd7e-d409d9367be5",
   "metadata": {},
   "source": [
    "*This will convert 200 minutes to hours by diving by 60*"
   ]
  },
  {
   "cell_type": "code",
   "execution_count": 24,
   "id": "09915d19-5d80-47a1-8b21-0289afdcc5cd",
   "metadata": {},
   "outputs": [
    {
     "name": "stdin",
     "output_type": "stream",
     "text": [
      "Enter time in minutes 200\n"
     ]
    },
    {
     "name": "stdout",
     "output_type": "stream",
     "text": [
      "Hours= 3\n",
      "Minutes= 20\n"
     ]
    }
   ],
   "source": [
    "min=int(input(\"Enter time in minutes\"))\n",
    "h=min//60\n",
    "m=min%60\n",
    "print(\"Hours=\",h)\n",
    "print(\"Minutes=\",m)"
   ]
  },
  {
   "cell_type": "code",
   "execution_count": null,
   "id": "8e1492d6-b3df-4e7a-80d2-8ed155064de8",
   "metadata": {},
   "outputs": [],
   "source": []
  }
 ],
 "metadata": {
  "kernelspec": {
   "display_name": "Python 3 (ipykernel)",
   "language": "python",
   "name": "python3"
  },
  "language_info": {
   "codemirror_mode": {
    "name": "ipython",
    "version": 3
   },
   "file_extension": ".py",
   "mimetype": "text/x-python",
   "name": "python",
   "nbconvert_exporter": "python",
   "pygments_lexer": "ipython3",
   "version": "3.11.7"
  }
 },
 "nbformat": 4,
 "nbformat_minor": 5
}
